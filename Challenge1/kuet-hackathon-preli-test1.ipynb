{
 "cells": [
  {
   "cell_type": "code",
   "execution_count": 1,
   "metadata": {
    "_cell_guid": "b1076dfc-b9ad-4769-8c92-a6c4dae69d19",
    "_uuid": "8f2839f25d086af736a60e9eeb907d3b93b6e0e5",
    "execution": {
     "iopub.execute_input": "2024-12-21T15:35:44.659629Z",
     "iopub.status.busy": "2024-12-21T15:35:44.659320Z",
     "iopub.status.idle": "2024-12-21T15:35:44.663051Z",
     "shell.execute_reply": "2024-12-21T15:35:44.662230Z",
     "shell.execute_reply.started": "2024-12-21T15:35:44.659602Z"
    },
    "trusted": true
   },
   "outputs": [],
   "source": [
    "# ====================================================\n",
    "# Kaggle Notebook: Banglish to Bengali with ByT5\n",
    "# ===================================================="
   ]
  },
  {
   "cell_type": "markdown",
   "metadata": {},
   "source": [
    "# Siam ARefin "
   ]
  },
  {
   "cell_type": "code",
   "execution_count": 2,
   "metadata": {
    "execution": {
     "iopub.execute_input": "2024-12-21T15:35:44.698101Z",
     "iopub.status.busy": "2024-12-21T15:35:44.697906Z",
     "iopub.status.idle": "2024-12-21T15:35:46.254081Z",
     "shell.execute_reply": "2024-12-21T15:35:46.253152Z",
     "shell.execute_reply.started": "2024-12-21T15:35:44.698085Z"
    },
    "trusted": true
   },
   "outputs": [],
   "source": [
    "import pandas as pd\n",
    "\n",
    "df = pd.read_parquet(\"hf://datasets/SKNahin/bengali-transliteration-data/data/train-00000-of-00001.parquet\")"
   ]
  },
  {
   "cell_type": "code",
   "execution_count": 3,
   "metadata": {
    "execution": {
     "iopub.execute_input": "2024-12-21T15:35:46.255608Z",
     "iopub.status.busy": "2024-12-21T15:35:46.255197Z",
     "iopub.status.idle": "2024-12-21T15:35:46.260935Z",
     "shell.execute_reply": "2024-12-21T15:35:46.260142Z",
     "shell.execute_reply.started": "2024-12-21T15:35:46.255577Z"
    },
    "trusted": true
   },
   "outputs": [
    {
     "data": {
      "text/plain": [
       "(5006, 2)"
      ]
     },
     "execution_count": 3,
     "metadata": {},
     "output_type": "execute_result"
    }
   ],
   "source": [
    "df.shape"
   ]
  },
  {
   "cell_type": "code",
   "execution_count": 4,
   "metadata": {
    "execution": {
     "iopub.execute_input": "2024-12-21T15:35:46.262526Z",
     "iopub.status.busy": "2024-12-21T15:35:46.262262Z",
     "iopub.status.idle": "2024-12-21T15:35:46.596996Z",
     "shell.execute_reply": "2024-12-21T15:35:46.596084Z",
     "shell.execute_reply.started": "2024-12-21T15:35:46.262495Z"
    },
    "trusted": true
   },
   "outputs": [
    {
     "data": {
      "image/png": "[encoded data removed]",
      "text/plain": [
       "<Figure size 800x500 with 1 Axes>"
      ]
     },
     "metadata": {},
     "output_type": "display_data"
    }
   ],
   "source": [
    "import matplotlib.pyplot as plt\n",
    "\n",
    "# 1) Calculate the length of the 'bn' text for each row\n",
    "df[\"bn_length\"] = df[\"bn\"].apply(len)\n",
    "\n",
    "# 2) Plot the distribution of these lengths as a histogram\n",
    "plt.figure(figsize=(8, 5))\n",
    "df[\"bn_length\"].hist(bins=50)  # you can adjust the number of bins as you like\n",
    "plt.title(\"Distribution of 'bn' Text Lengths\")\n",
    "plt.xlabel(\"Length of Text\")\n",
    "plt.ylabel(\"Frequency\")\n",
    "plt.show()\n"
   ]
  },
  {
   "cell_type": "code",
   "execution_count": 5,
   "metadata": {
    "execution": {
     "iopub.execute_input": "2024-12-21T15:35:46.598291Z",
     "iopub.status.busy": "2024-12-21T15:35:46.598064Z",
     "iopub.status.idle": "2024-12-21T15:35:46.616737Z",
     "shell.execute_reply": "2024-12-21T15:35:46.615983Z",
     "shell.execute_reply.started": "2024-12-21T15:35:46.598271Z"
    },
    "trusted": true
   },
   "outputs": [],
   "source": [
    "# For example, remove any rows where length of bn < 3 or length of rm < 3\n",
    "df = df[df[\"bn\"].str.len() >= 5]\n",
    "df = df[df[\"rm\"].str.len() >= 5]\n",
    "\n",
    "# Also remove overly long sequences if you suspect they are noisy\n",
    "# For instance, remove rows where text is longer than 200 characters\n",
    "max_length = 100\n",
    "df = df[df[\"bn\"].str.len() <= max_length]\n",
    "df = df[df[\"rm\"].str.len() <= max_length]\n"
   ]
  },
  {
   "cell_type": "code",
   "execution_count": 6,
   "metadata": {
    "execution": {
     "iopub.execute_input": "2024-12-21T15:35:46.617936Z",
     "iopub.status.busy": "2024-12-21T15:35:46.617651Z",
     "iopub.status.idle": "2024-12-21T15:35:46.622794Z",
     "shell.execute_reply": "2024-12-21T15:35:46.621995Z",
     "shell.execute_reply.started": "2024-12-21T15:35:46.617916Z"
    },
    "trusted": true
   },
   "outputs": [
    {
     "data": {
      "text/plain": [
       "(4791, 3)"
      ]
     },
     "execution_count": 6,
     "metadata": {},
     "output_type": "execute_result"
    }
   ],
   "source": [
    "df.shape"
   ]
  },
  {
   "cell_type": "code",
   "execution_count": null,
   "metadata": {
    "trusted": true
   },
   "outputs": [],
   "source": []
  },
  {
   "cell_type": "code",
   "execution_count": 7,
   "metadata": {
    "execution": {
     "iopub.execute_input": "2024-12-21T15:35:46.623713Z",
     "iopub.status.busy": "2024-12-21T15:35:46.623514Z",
     "iopub.status.idle": "2024-12-21T15:35:47.674602Z",
     "shell.execute_reply": "2024-12-21T15:35:47.673738Z",
     "shell.execute_reply.started": "2024-12-21T15:35:46.623696Z"
    },
    "trusted": true
   },
   "outputs": [
    {
     "name": "stdout",
     "output_type": "stream",
     "text": [
      "Total records: 4791\n",
      "Train size: 3832\n",
      "Test size: 959\n"
     ]
    }
   ],
   "source": [
    "from sklearn.model_selection import train_test_split\n",
    "\n",
    "\n",
    "# 2. Split the DataFrame into train and test (80/20)\n",
    "train_df, test_df = train_test_split(df, test_size=0.2, random_state=42)\n",
    "\n",
    "print(\"Total records:\", len(df))\n",
    "print(\"Train size:\", len(train_df))\n",
    "print(\"Test size:\", len(test_df))\n"
   ]
  },
  {
   "cell_type": "code",
   "execution_count": 8,
   "metadata": {
    "execution": {
     "iopub.execute_input": "2024-12-21T15:35:47.676024Z",
     "iopub.status.busy": "2024-12-21T15:35:47.675510Z",
     "iopub.status.idle": "2024-12-21T15:35:47.688280Z",
     "shell.execute_reply": "2024-12-21T15:35:47.687370Z",
     "shell.execute_reply.started": "2024-12-21T15:35:47.675990Z"
    },
    "trusted": true
   },
   "outputs": [
    {
     "data": {
      "text/html": [
       "<div>\n",
       "<style scoped>\n",
       "    .dataframe tbody tr th:only-of-type {\n",
       "        vertical-align: middle;\n",
       "    }\n",
       "\n",
       "    .dataframe tbody tr th {\n",
       "        vertical-align: top;\n",
       "    }\n",
       "\n",
       "    .dataframe thead th {\n",
       "        text-align: right;\n",
       "    }\n",
       "</style>\n",
       "<table border=\"1\" class=\"dataframe\">\n",
       "  <thead>\n",
       "    <tr style=\"text-align: right;\">\n",
       "      <th></th>\n",
       "      <th>bn</th>\n",
       "      <th>rm</th>\n",
       "      <th>bn_length</th>\n",
       "    </tr>\n",
       "  </thead>\n",
       "  <tbody>\n",
       "    <tr>\n",
       "      <th>2840</th>\n",
       "      <td>ইমো একাউন্ট ফ্রি তে প্রিমিয়াম করার কোনো ওয়ে আছে</td>\n",
       "      <td>ImO account free te primium korar kono way ace</td>\n",
       "      <td>47</td>\n",
       "    </tr>\n",
       "    <tr>\n",
       "      <th>1562</th>\n",
       "      <td>আমি নিজেই পোস্ট করতে চাচ্ছিলাম গুগল লেন্স নিয়ে</td>\n",
       "      <td>Ami nijei post korte chacchilam google lens niye</td>\n",
       "      <td>46</td>\n",
       "    </tr>\n",
       "    <tr>\n",
       "      <th>3530</th>\n",
       "      <td>এখনও পোস্ট লিখি নাই লিখছি</td>\n",
       "      <td>Akhono post likhi nai likhchi</td>\n",
       "      <td>26</td>\n",
       "    </tr>\n",
       "    <tr>\n",
       "      <th>1824</th>\n",
       "      <td>আমি এই হিরোর ফ্যান</td>\n",
       "      <td>Ami aii heror fan</td>\n",
       "      <td>18</td>\n",
       "    </tr>\n",
       "    <tr>\n",
       "      <th>3118</th>\n",
       "      <td>২০টার বেশি হয় না</td>\n",
       "      <td>20tar besi hoi na</td>\n",
       "      <td>16</td>\n",
       "    </tr>\n",
       "    <tr>\n",
       "      <th>...</th>\n",
       "      <td>...</td>\n",
       "      <td>...</td>\n",
       "      <td>...</td>\n",
       "    </tr>\n",
       "    <tr>\n",
       "      <th>4638</th>\n",
       "      <td>চাইলে পোস্ট করতে পারি</td>\n",
       "      <td>cayle post korte pari</td>\n",
       "      <td>22</td>\n",
       "    </tr>\n",
       "    <tr>\n",
       "      <th>525</th>\n",
       "      <td>আগের মতো আবার পোস্ট করা শুরু করবেন</td>\n",
       "      <td>ager moto abar post kora suru korben</td>\n",
       "      <td>34</td>\n",
       "    </tr>\n",
       "    <tr>\n",
       "      <th>3292</th>\n",
       "      <td>লিংক টা দিবেন ভাই একটু কষ্ট করে,</td>\n",
       "      <td>Link Ta Diben Vai Aktu Kosto Kore,</td>\n",
       "      <td>32</td>\n",
       "    </tr>\n",
       "    <tr>\n",
       "      <th>3974</th>\n",
       "      <td>আপনার এফবি পেতে পারি//</td>\n",
       "      <td>Apnar fb pete pari??</td>\n",
       "      <td>22</td>\n",
       "    </tr>\n",
       "    <tr>\n",
       "      <th>929</th>\n",
       "      <td>ও তো মনে হয় হিন্দু</td>\n",
       "      <td>o to mone hoy hindu</td>\n",
       "      <td>18</td>\n",
       "    </tr>\n",
       "  </tbody>\n",
       "</table>\n",
       "<p>3832 rows × 3 columns</p>\n",
       "</div>"
      ],
      "text/plain": [
       "                                                   bn  \\\n",
       "2840  ইমো একাউন্ট ফ্রি তে প্রিমিয়াম করার কোনো ওয়ে আছে   \n",
       "1562   আমি নিজেই পোস্ট করতে চাচ্ছিলাম গুগল লেন্স নিয়ে   \n",
       "3530                       এখনও পোস্ট লিখি নাই লিখছি    \n",
       "1824                               আমি এই হিরোর ফ্যান   \n",
       "3118                                 ২০টার বেশি হয় না   \n",
       "...                                               ...   \n",
       "4638                           চাইলে পোস্ট করতে পারি    \n",
       "525                আগের মতো আবার পোস্ট করা শুরু করবেন   \n",
       "3292                 লিংক টা দিবেন ভাই একটু কষ্ট করে,   \n",
       "3974                           আপনার এফবি পেতে পারি//   \n",
       "929                                ও তো মনে হয় হিন্দু   \n",
       "\n",
       "                                                    rm  bn_length  \n",
       "2840    ImO account free te primium korar kono way ace         47  \n",
       "1562  Ami nijei post korte chacchilam google lens niye         46  \n",
       "3530                     Akhono post likhi nai likhchi         26  \n",
       "1824                                 Ami aii heror fan         18  \n",
       "3118                                 20tar besi hoi na         16  \n",
       "...                                                ...        ...  \n",
       "4638                             cayle post korte pari         22  \n",
       "525               ager moto abar post kora suru korben         34  \n",
       "3292                Link Ta Diben Vai Aktu Kosto Kore,         32  \n",
       "3974                              Apnar fb pete pari??         22  \n",
       "929                                o to mone hoy hindu         18  \n",
       "\n",
       "[3832 rows x 3 columns]"
      ]
     },
     "execution_count": 8,
     "metadata": {},
     "output_type": "execute_result"
    }
   ],
   "source": [
    "train_df"
   ]
  },
  {
   "cell_type": "code",
   "execution_count": 9,
   "metadata": {
    "execution": {
     "iopub.execute_input": "2024-12-21T15:35:47.691324Z",
     "iopub.status.busy": "2024-12-21T15:35:47.691127Z",
     "iopub.status.idle": "2024-12-21T15:35:53.947750Z",
     "shell.execute_reply": "2024-12-21T15:35:53.946690Z",
     "shell.execute_reply.started": "2024-12-21T15:35:47.691308Z"
    },
    "trusted": true
   },
   "outputs": [
    {
     "name": "stdout",
     "output_type": "stream",
     "text": [
      "Collecting jiwer\n",
      "  Downloading jiwer-3.0.5-py3-none-any.whl.metadata (2.7 kB)\n",
      "Requirement already satisfied: click<9.0.0,>=8.1.3 in /usr/local/lib/python3.10/dist-packages (from jiwer) (8.1.7)\n",
      "Collecting rapidfuzz<4,>=3 (from jiwer)\n",
      "  Downloading rapidfuzz-3.11.0-cp310-cp310-manylinux_2_17_x86_64.manylinux2014_x86_64.whl.metadata (11 kB)\n",
      "Downloading jiwer-3.0.5-py3-none-any.whl (21 kB)\n",
      "Downloading rapidfuzz-3.11.0-cp310-cp310-manylinux_2_17_x86_64.manylinux2014_x86_64.whl (3.1 MB)\n",
      "\u001b[2K   \u001b[90m━━━━━━━━━━━━━━━━━━━━━━━━━━━━━━━━━━━━━━━━\u001b[0m \u001b[32m3.1/3.1 MB\u001b[0m \u001b[31m33.9 MB/s\u001b[0m eta \u001b[36m0:00:00\u001b[0ma \u001b[36m0:00:01\u001b[0m\n",
      "\u001b[?25hInstalling collected packages: rapidfuzz, jiwer\n",
      "Successfully installed jiwer-3.0.5 rapidfuzz-3.11.0\n"
     ]
    }
   ],
   "source": [
    "# For calculating WER (Word Error Rate)\n",
    "! pip install jiwer"
   ]
  },
  {
   "cell_type": "code",
   "execution_count": 10,
   "metadata": {
    "execution": {
     "iopub.execute_input": "2024-12-21T15:35:53.949896Z",
     "iopub.status.busy": "2024-12-21T15:35:53.949616Z",
     "iopub.status.idle": "2024-12-21T15:35:53.958494Z",
     "shell.execute_reply": "2024-12-21T15:35:53.957872Z",
     "shell.execute_reply.started": "2024-12-21T15:35:53.949870Z"
    },
    "trusted": true
   },
   "outputs": [],
   "source": [
    "import pandas as pd\n",
    "from sklearn.model_selection import train_test_split\n",
    "\n",
    "train_df, val_df = train_test_split(train_df, test_size=0.1, shuffle=True, random_state=3000)\n",
    "train_df = train_df.reset_index(drop=True)\n",
    "val_df = val_df.reset_index(drop=True)"
   ]
  },
  {
   "cell_type": "code",
   "execution_count": 11,
   "metadata": {
    "execution": {
     "iopub.execute_input": "2024-12-21T15:35:53.959490Z",
     "iopub.status.busy": "2024-12-21T15:35:53.959284Z",
     "iopub.status.idle": "2024-12-21T15:35:54.537830Z",
     "shell.execute_reply": "2024-12-21T15:35:54.537175Z",
     "shell.execute_reply.started": "2024-12-21T15:35:53.959473Z"
    },
    "trusted": true
   },
   "outputs": [],
   "source": [
    "from datasets import Dataset\n",
    "\n",
    "ds_train = Dataset.from_pandas(train_df)\n",
    "ds_eval = Dataset.from_pandas(val_df)"
   ]
  },
  {
   "cell_type": "code",
   "execution_count": 12,
   "metadata": {
    "execution": {
     "iopub.execute_input": "2024-12-21T15:35:54.539076Z",
     "iopub.status.busy": "2024-12-21T15:35:54.538619Z",
     "iopub.status.idle": "2024-12-21T15:36:17.311763Z",
     "shell.execute_reply": "2024-12-21T15:36:17.310881Z",
     "shell.execute_reply.started": "2024-12-21T15:35:54.539045Z"
    },
    "trusted": true
   },
   "outputs": [
    {
     "data": {
      "application/vnd.jupyter.widget-view+json": {
       "model_id": "9810111535cb492790f7a1e6c313defd",
       "version_major": 2,
       "version_minor": 0
      },
      "text/plain": [
       "tokenizer_config.json:   0%|          | 0.00/82.0 [00:00<?, ?B/s]"
      ]
     },
     "metadata": {},
     "output_type": "display_data"
    },
    {
     "data": {
      "application/vnd.jupyter.widget-view+json": {
       "model_id": "5ecd9abf79b14c6bb253f2c81a0b81fd",
       "version_major": 2,
       "version_minor": 0
      },
      "text/plain": [
       "config.json:   0%|          | 0.00/553 [00:00<?, ?B/s]"
      ]
     },
     "metadata": {},
     "output_type": "display_data"
    },
    {
     "data": {
      "application/vnd.jupyter.widget-view+json": {
       "model_id": "888c6da624a74305851c703b7208cc2b",
       "version_major": 2,
       "version_minor": 0
      },
      "text/plain": [
       "spiece.model:   0%|          | 0.00/4.31M [00:00<?, ?B/s]"
      ]
     },
     "metadata": {},
     "output_type": "display_data"
    },
    {
     "data": {
      "application/vnd.jupyter.widget-view+json": {
       "model_id": "9b675e64d4fe48ee9d2d178af4698047",
       "version_major": 2,
       "version_minor": 0
      },
      "text/plain": [
       "special_tokens_map.json:   0%|          | 0.00/99.0 [00:00<?, ?B/s]"
      ]
     },
     "metadata": {},
     "output_type": "display_data"
    },
    {
     "name": "stderr",
     "output_type": "stream",
     "text": [
      "You are using the default legacy behaviour of the <class 'transformers.models.t5.tokenization_t5.T5Tokenizer'>. This is expected, and simply means that the `legacy` (previous) behavior will be used so nothing changes for you. If you want to use the new behaviour, set `legacy=False`. This should only be set if you understand what it means, and thoroughly read the reason why this was added as explained in https://github.com/huggingface/transformers/pull/24565\n",
      "/usr/local/lib/python3.10/dist-packages/transformers/tokenization_utils_base.py:1601: FutureWarning: `clean_up_tokenization_spaces` was not set. It will be set to `True` by default. This behavior will be depracted in transformers v4.45, and will be then set to `False` by default. For more details check this issue: https://github.com/huggingface/transformers/issues/31884\n",
      "  warnings.warn(\n",
      "/usr/local/lib/python3.10/dist-packages/transformers/convert_slow_tokenizer.py:551: UserWarning: The sentencepiece tokenizer that you are converting to a fast tokenizer uses the byte fallback option which is not implemented in the fast tokenizers. In practice this means that the fast version of the tokenizer can produce unknown tokens whereas the sentencepiece version would have converted these unknown tokens into a sequence of byte tokens matching the original piece of text.\n",
      "  warnings.warn(\n"
     ]
    },
    {
     "data": {
      "application/vnd.jupyter.widget-view+json": {
       "model_id": "e69301378584479082379097db1b019f",
       "version_major": 2,
       "version_minor": 0
      },
      "text/plain": [
       "pytorch_model.bin:   0%|          | 0.00/1.20G [00:00<?, ?B/s]"
      ]
     },
     "metadata": {},
     "output_type": "display_data"
    },
    {
     "data": {
      "application/vnd.jupyter.widget-view+json": {
       "model_id": "8a9839414bc44c0bb1fdc79e469a8565",
       "version_major": 2,
       "version_minor": 0
      },
      "text/plain": [
       "generation_config.json:   0%|          | 0.00/147 [00:00<?, ?B/s]"
      ]
     },
     "metadata": {},
     "output_type": "display_data"
    }
   ],
   "source": [
    "from transformers import AutoTokenizer, AutoModelForSeq2SeqLM, DataCollatorForSeq2Seq\n",
    "\n",
    "model_id = \"google/mt5-small\"\n",
    "tokenizer = AutoTokenizer.from_pretrained(model_id)\n",
    "model = AutoModelForSeq2SeqLM.from_pretrained(model_id)\n",
    "data_collator = DataCollatorForSeq2Seq(tokenizer)"
   ]
  },
  {
   "cell_type": "code",
   "execution_count": 13,
   "metadata": {
    "execution": {
     "iopub.execute_input": "2024-12-21T15:36:17.313175Z",
     "iopub.status.busy": "2024-12-21T15:36:17.312640Z",
     "iopub.status.idle": "2024-12-21T15:36:20.764294Z",
     "shell.execute_reply": "2024-12-21T15:36:20.763145Z",
     "shell.execute_reply.started": "2024-12-21T15:36:17.313151Z"
    },
    "trusted": true
   },
   "outputs": [
    {
     "name": "stderr",
     "output_type": "stream",
     "text": [
      "/usr/lib/python3.10/pty.py:89: RuntimeWarning: os.fork() was called. os.fork() is incompatible with multithreaded code, and JAX is multithreaded, so this will likely lead to a deadlock.\n",
      "  pid, fd = os.forkpty()\n"
     ]
    },
    {
     "name": "stdout",
     "output_type": "stream",
     "text": [
      "Collecting evaluate\n",
      "  Downloading evaluate-0.4.3-py3-none-any.whl.metadata (9.2 kB)\n",
      "Requirement already satisfied: datasets>=2.0.0 in /usr/local/lib/python3.10/dist-packages (from evaluate) (3.2.0)\n",
      "Requirement already satisfied: numpy>=1.17 in /usr/local/lib/python3.10/dist-packages (from evaluate) (1.26.4)\n",
      "Requirement already satisfied: dill in /usr/local/lib/python3.10/dist-packages (from evaluate) (0.3.8)\n",
      "Requirement already satisfied: pandas in /usr/local/lib/python3.10/dist-packages (from evaluate) (2.1.4)\n",
      "Requirement already satisfied: requests>=2.19.0 in /usr/local/lib/python3.10/dist-packages (from evaluate) (2.32.3)\n",
      "Requirement already satisfied: tqdm>=4.62.1 in /usr/local/lib/python3.10/dist-packages (from evaluate) (4.66.5)\n",
      "Requirement already satisfied: xxhash in /usr/local/lib/python3.10/dist-packages (from evaluate) (3.5.0)\n",
      "Requirement already satisfied: multiprocess in /usr/local/lib/python3.10/dist-packages (from evaluate) (0.70.16)\n",
      "Requirement already satisfied: fsspec>=2021.05.0 in /usr/local/lib/python3.10/dist-packages (from fsspec[http]>=2021.05.0->evaluate) (2024.6.1)\n",
      "Requirement already satisfied: huggingface-hub>=0.7.0 in /usr/local/lib/python3.10/dist-packages (from evaluate) (0.24.7)\n",
      "Requirement already satisfied: packaging in /usr/local/lib/python3.10/dist-packages (from evaluate) (24.1)\n",
      "Requirement already satisfied: filelock in /usr/local/lib/python3.10/dist-packages (from datasets>=2.0.0->evaluate) (3.16.1)\n",
      "Requirement already satisfied: pyarrow>=15.0.0 in /usr/local/lib/python3.10/dist-packages (from datasets>=2.0.0->evaluate) (18.1.0)\n",
      "Requirement already satisfied: aiohttp in /usr/local/lib/python3.10/dist-packages (from datasets>=2.0.0->evaluate) (3.10.5)\n",
      "Requirement already satisfied: pyyaml>=5.1 in /usr/local/lib/python3.10/dist-packages (from datasets>=2.0.0->evaluate) (6.0.2)\n",
      "Requirement already satisfied: typing-extensions>=3.7.4.3 in /usr/local/lib/python3.10/dist-packages (from huggingface-hub>=0.7.0->evaluate) (4.12.2)\n",
      "Requirement already satisfied: charset-normalizer<4,>=2 in /usr/local/lib/python3.10/dist-packages (from requests>=2.19.0->evaluate) (3.3.2)\n",
      "Requirement already satisfied: idna<4,>=2.5 in /usr/local/lib/python3.10/dist-packages (from requests>=2.19.0->evaluate) (3.10)\n",
      "Requirement already satisfied: urllib3<3,>=1.21.1 in /usr/local/lib/python3.10/dist-packages (from requests>=2.19.0->evaluate) (2.2.3)\n",
      "Requirement already satisfied: certifi>=2017.4.17 in /usr/local/lib/python3.10/dist-packages (from requests>=2.19.0->evaluate) (2024.8.30)\n",
      "Requirement already satisfied: python-dateutil>=2.8.2 in /usr/local/lib/python3.10/dist-packages (from pandas->evaluate) (2.8.2)\n",
      "Requirement already satisfied: pytz>=2020.1 in /usr/local/lib/python3.10/dist-packages (from pandas->evaluate) (2024.2)\n",
      "Requirement already satisfied: tzdata>=2022.1 in /usr/local/lib/python3.10/dist-packages (from pandas->evaluate) (2024.1)\n",
      "Requirement already satisfied: aiohappyeyeballs>=2.3.0 in /usr/local/lib/python3.10/dist-packages (from aiohttp->datasets>=2.0.0->evaluate) (2.4.0)\n",
      "Requirement already satisfied: aiosignal>=1.1.2 in /usr/local/lib/python3.10/dist-packages (from aiohttp->datasets>=2.0.0->evaluate) (1.3.1)\n",
      "Requirement already satisfied: attrs>=17.3.0 in /usr/local/lib/python3.10/dist-packages (from aiohttp->datasets>=2.0.0->evaluate) (24.2.0)\n",
      "Requirement already satisfied: frozenlist>=1.1.1 in /usr/local/lib/python3.10/dist-packages (from aiohttp->datasets>=2.0.0->evaluate) (1.4.1)\n",
      "Requirement already satisfied: multidict<7.0,>=4.5 in /usr/local/lib/python3.10/dist-packages (from aiohttp->datasets>=2.0.0->evaluate) (6.1.0)\n",
      "Requirement already satisfied: yarl<2.0,>=1.0 in /usr/local/lib/python3.10/dist-packages (from aiohttp->datasets>=2.0.0->evaluate) (1.11.1)\n",
      "Requirement already satisfied: async-timeout<5.0,>=4.0 in /usr/local/lib/python3.10/dist-packages (from aiohttp->datasets>=2.0.0->evaluate) (4.0.3)\n",
      "Requirement already satisfied: six>=1.5 in /usr/local/lib/python3.10/dist-packages (from python-dateutil>=2.8.2->pandas->evaluate) (1.16.0)\n",
      "Downloading evaluate-0.4.3-py3-none-any.whl (84 kB)\n",
      "\u001b[2K   \u001b[90m━━━━━━━━━━━━━━━━━━━━━━━━━━━━━━━━━━━━━━━━\u001b[0m \u001b[32m84.0/84.0 kB\u001b[0m \u001b[31m3.1 MB/s\u001b[0m eta \u001b[36m0:00:00\u001b[0m\n",
      "\u001b[?25hInstalling collected packages: evaluate\n",
      "Successfully installed evaluate-0.4.3\n"
     ]
    }
   ],
   "source": [
    "!pip install evaluate\n"
   ]
  },
  {
   "cell_type": "markdown",
   "metadata": {},
   "source": []
  },
  {
   "cell_type": "code",
   "execution_count": 14,
   "metadata": {
    "execution": {
     "iopub.execute_input": "2024-12-21T15:36:20.765859Z",
     "iopub.status.busy": "2024-12-21T15:36:20.765438Z",
     "iopub.status.idle": "2024-12-21T15:36:20.783030Z",
     "shell.execute_reply": "2024-12-21T15:36:20.781985Z",
     "shell.execute_reply.started": "2024-12-21T15:36:20.765815Z"
    },
    "trusted": true
   },
   "outputs": [
    {
     "data": {
      "text/html": [
       "<div>\n",
       "<style scoped>\n",
       "    .dataframe tbody tr th:only-of-type {\n",
       "        vertical-align: middle;\n",
       "    }\n",
       "\n",
       "    .dataframe tbody tr th {\n",
       "        vertical-align: top;\n",
       "    }\n",
       "\n",
       "    .dataframe thead th {\n",
       "        text-align: right;\n",
       "    }\n",
       "</style>\n",
       "<table border=\"1\" class=\"dataframe\">\n",
       "  <thead>\n",
       "    <tr style=\"text-align: right;\">\n",
       "      <th></th>\n",
       "      <th>bn</th>\n",
       "      <th>rm</th>\n",
       "      <th>bn_length</th>\n",
       "    </tr>\n",
       "  </thead>\n",
       "  <tbody>\n",
       "    <tr>\n",
       "      <th>0</th>\n",
       "      <td>স্ক্রোল করে ২০/৩০ সেকেন্ড এর ভিডিও পান নাই???</td>\n",
       "      <td>scroll kore 20/30 second er video pann nai???</td>\n",
       "      <td>45</td>\n",
       "    </tr>\n",
       "    <tr>\n",
       "      <th>1</th>\n",
       "      <td>ও গুলা টরেন্ট সাইট এ পাবেন</td>\n",
       "      <td>o gula Torrent site e paben</td>\n",
       "      <td>26</td>\n",
       "    </tr>\n",
       "    <tr>\n",
       "      <th>2</th>\n",
       "      <td>ভক্কর চক্কর পোস্ট একটা করলেই এপ্রুভড.… নিশ্চই ...</td>\n",
       "      <td>vokkor chokkor post akta korlei approved…. nis...</td>\n",
       "      <td>56</td>\n",
       "    </tr>\n",
       "    <tr>\n",
       "      <th>3</th>\n",
       "      <td>আমি টেস্ট করেই কোড দিছি…</td>\n",
       "      <td>ami test koreii code disi…</td>\n",
       "      <td>24</td>\n",
       "    </tr>\n",
       "    <tr>\n",
       "      <th>4</th>\n",
       "      <td>এতো কষ্টের কি আছে সাকিবওয়াপ.টক,সাকিবওয়াপ.মল&amp;এআ...</td>\n",
       "      <td>eto koster ki ache shakibwap.tk,shakibwap.ml&amp;a...</td>\n",
       "      <td>86</td>\n",
       "    </tr>\n",
       "    <tr>\n",
       "      <th>...</th>\n",
       "      <td>...</td>\n",
       "      <td>...</td>\n",
       "      <td>...</td>\n",
       "    </tr>\n",
       "    <tr>\n",
       "      <th>5001</th>\n",
       "      <td>এদের কে মাটি চাপা দেয়া দরকার</td>\n",
       "      <td>Eder ke mati chapa deya dorkar</td>\n",
       "      <td>29</td>\n",
       "    </tr>\n",
       "    <tr>\n",
       "      <th>5002</th>\n",
       "      <td>ওদের একদিন বিচার হবে ভাই</td>\n",
       "      <td>Oder ekdin bichar hobe vai</td>\n",
       "      <td>25</td>\n",
       "    </tr>\n",
       "    <tr>\n",
       "      <th>5003</th>\n",
       "      <td>অপেক্ষা করেন</td>\n",
       "      <td>Opekkha koren</td>\n",
       "      <td>13</td>\n",
       "    </tr>\n",
       "    <tr>\n",
       "      <th>5004</th>\n",
       "      <td>সময় আসবে</td>\n",
       "      <td>Shomoy ashbe</td>\n",
       "      <td>8</td>\n",
       "    </tr>\n",
       "    <tr>\n",
       "      <th>5005</th>\n",
       "      <td>আমাদেরও সময় আসবে</td>\n",
       "      <td>Amadero somoy ashbe</td>\n",
       "      <td>16</td>\n",
       "    </tr>\n",
       "  </tbody>\n",
       "</table>\n",
       "<p>4791 rows × 3 columns</p>\n",
       "</div>"
      ],
      "text/plain": [
       "                                                     bn  \\\n",
       "0         স্ক্রোল করে ২০/৩০ সেকেন্ড এর ভিডিও পান নাই???   \n",
       "1                            ও গুলা টরেন্ট সাইট এ পাবেন   \n",
       "2     ভক্কর চক্কর পোস্ট একটা করলেই এপ্রুভড.… নিশ্চই ...   \n",
       "3                              আমি টেস্ট করেই কোড দিছি…   \n",
       "4     এতো কষ্টের কি আছে সাকিবওয়াপ.টক,সাকিবওয়াপ.মল&এআ...   \n",
       "...                                                 ...   \n",
       "5001                      এদের কে মাটি চাপা দেয়া দরকার    \n",
       "5002                          ওদের একদিন বিচার হবে ভাই    \n",
       "5003                                      অপেক্ষা করেন    \n",
       "5004                                           সময় আসবে   \n",
       "5005                                   আমাদেরও সময় আসবে   \n",
       "\n",
       "                                                     rm  bn_length  \n",
       "0         scroll kore 20/30 second er video pann nai???         45  \n",
       "1                           o gula Torrent site e paben         26  \n",
       "2     vokkor chokkor post akta korlei approved…. nis...         56  \n",
       "3                            ami test koreii code disi…         24  \n",
       "4     eto koster ki ache shakibwap.tk,shakibwap.ml&a...         86  \n",
       "...                                                 ...        ...  \n",
       "5001                     Eder ke mati chapa deya dorkar         29  \n",
       "5002                         Oder ekdin bichar hobe vai         25  \n",
       "5003                                      Opekkha koren         13  \n",
       "5004                                       Shomoy ashbe          8  \n",
       "5005                                Amadero somoy ashbe         16  \n",
       "\n",
       "[4791 rows x 3 columns]"
      ]
     },
     "execution_count": 14,
     "metadata": {},
     "output_type": "execute_result"
    }
   ],
   "source": [
    "df"
   ]
  },
  {
   "cell_type": "code",
   "execution_count": 15,
   "metadata": {
    "execution": {
     "iopub.execute_input": "2024-12-21T15:36:20.784578Z",
     "iopub.status.busy": "2024-12-21T15:36:20.784225Z",
     "iopub.status.idle": "2024-12-21T15:36:23.884824Z",
     "shell.execute_reply": "2024-12-21T15:36:23.883903Z",
     "shell.execute_reply.started": "2024-12-21T15:36:20.784542Z"
    },
    "trusted": true
   },
   "outputs": [
    {
     "data": {
      "application/vnd.jupyter.widget-view+json": {
       "model_id": "12acbd8fed324209adb027680219567c",
       "version_major": 2,
       "version_minor": 0
      },
      "text/plain": [
       "Map:   0%|          | 0/3448 [00:00<?, ? examples/s]"
      ]
     },
     "metadata": {},
     "output_type": "display_data"
    },
    {
     "data": {
      "application/vnd.jupyter.widget-view+json": {
       "model_id": "31065c600d2b47629250ad4627c15bed",
       "version_major": 2,
       "version_minor": 0
      },
      "text/plain": [
       "Map:   0%|          | 0/384 [00:00<?, ? examples/s]"
      ]
     },
     "metadata": {},
     "output_type": "display_data"
    }
   ],
   "source": [
    "def prepare_dataset(sample):\n",
    "    output = tokenizer(sample[\"bn\"])\n",
    "    output[\"labels\"] = tokenizer(sample[\"rm\"])['input_ids']\n",
    "    output[\"length\"] = len(output[\"labels\"])\n",
    "    #print(output)\n",
    "    return output\n",
    "\n",
    "\n",
    "ds_train = ds_train.map(prepare_dataset, remove_columns=ds_train.column_names)\n",
    "ds_eval = ds_eval.map(prepare_dataset, remove_columns=ds_eval.column_names)"
   ]
  },
  {
   "cell_type": "code",
   "execution_count": 16,
   "metadata": {
    "execution": {
     "iopub.execute_input": "2024-12-21T15:36:23.886034Z",
     "iopub.status.busy": "2024-12-21T15:36:23.885663Z",
     "iopub.status.idle": "2024-12-21T15:36:25.896311Z",
     "shell.execute_reply": "2024-12-21T15:36:25.895699Z",
     "shell.execute_reply.started": "2024-12-21T15:36:23.885997Z"
    },
    "trusted": true
   },
   "outputs": [
    {
     "data": {
      "application/vnd.jupyter.widget-view+json": {
       "model_id": "19262ae614c64446818f9b832621c2e4",
       "version_major": 2,
       "version_minor": 0
      },
      "text/plain": [
       "Downloading builder script:   0%|          | 0.00/4.49k [00:00<?, ?B/s]"
      ]
     },
     "metadata": {},
     "output_type": "display_data"
    }
   ],
   "source": [
    "import numpy as np\n",
    "import evaluate\n",
    "\n",
    "# Load WER metric\n",
    "wer_metric = evaluate.load(\"wer\")\n",
    "\n",
    "def compute_metrics(eval_preds):\n",
    "    preds, labels = eval_preds\n",
    "    \n",
    "    if isinstance(preds, tuple):\n",
    "        preds = preds[0]\n",
    "    \n",
    "    preds = np.where(preds != -100, preds, tokenizer.pad_token_id)\n",
    "    decoded_preds = tokenizer.batch_decode(preds, skip_special_tokens=True)\n",
    "\n",
    "    labels = np.where(labels != -100, labels, tokenizer.pad_token_id)\n",
    "    decoded_labels = tokenizer.batch_decode(labels, skip_special_tokens=True)\n",
    "\n",
    "    # Compute the WER\n",
    "    result = wer_metric.compute(\n",
    "        predictions=decoded_preds, references=decoded_labels\n",
    "    )\n",
    "    return {\"wer\": result}\n"
   ]
  },
  {
   "cell_type": "code",
   "execution_count": null,
   "metadata": {
    "execution": {
     "iopub.execute_input": "2024-12-21T15:36:25.897245Z",
     "iopub.status.busy": "2024-12-21T15:36:25.897028Z",
     "iopub.status.idle": "2024-12-21T15:36:26.525904Z",
     "shell.execute_reply": "2024-12-21T15:36:26.524894Z",
     "shell.execute_reply.started": "2024-12-21T15:36:25.897214Z"
    },
    "trusted": true
   },
   "outputs": [
    {
     "name": "stderr",
     "output_type": "stream",
     "text": [
      "/usr/local/lib/python3.10/dist-packages/transformers/training_args.py:1525: FutureWarning: `evaluation_strategy` is deprecated and will be removed in version 4.46 of 🤗 Transformers. Use `eval_strategy` instead\n",
      "  warnings.warn(\n"
     ]
    }
   ],
   "source": [
    "from transformers import Seq2SeqTrainer, Seq2SeqTrainingArguments\n",
    "\n",
    "model_id = \"mt5-bangla\"\n",
    "\n",
    "training_args = Seq2SeqTrainingArguments(\n",
    "    output_dir=model_id,\n",
    "    group_by_length=True,\n",
    "    length_column_name=\"length\",\n",
    "    per_device_train_batch_size=4,\n",
    "    per_device_eval_batch_size=4,\n",
    "    evaluation_strategy=\"steps\",\n",
    "    metric_for_best_model=\"wer\",\n",
    "    greater_is_better=False,\n",
    "    load_best_model_at_end=True,\n",
    "    num_train_epochs=20,\n",
    "    learning_rate=0.0002,\n",
    "    weight_decay=1e-2,\n",
    "    predict_with_generate=True,\n",
    "    generation_max_length=256,\n",
    "    push_to_hub=False,\n",
    "    report_to=\"none\",\n",
    "    save_safetensors=False,\n",
    "    # fp16=True,\n",
    ")"
   ]
  },
  {
   "cell_type": "code",
   "execution_count": 18,
   "metadata": {
    "execution": {
     "iopub.execute_input": "2024-12-21T15:36:26.526937Z",
     "iopub.status.busy": "2024-12-21T15:36:26.526677Z",
     "iopub.status.idle": "2024-12-21T15:46:42.008771Z",
     "shell.execute_reply": "2024-12-21T15:46:42.007843Z",
     "shell.execute_reply.started": "2024-12-21T15:36:26.526913Z"
    },
    "trusted": true
   },
   "outputs": [
    {
     "name": "stderr",
     "output_type": "stream",
     "text": [
      "/usr/local/lib/python3.10/dist-packages/torch/nn/parallel/_functions.py:68: UserWarning: Was asked to gather along dimension 0, but all input tensors were scalars; will instead unsqueeze and return a vector.\n",
      "  warnings.warn('Was asked to gather along dimension 0, but all '\n"
     ]
    },
    {
     "data": {
      "text/html": [
       "\n",
       "    <div>\n",
       "      \n",
       "      <progress value='862' max='862' style='width:300px; height:20px; vertical-align: middle;'></progress>\n",
       "      [862/862 10:12, Epoch 2/2]\n",
       "    </div>\n",
       "    <table border=\"1\" class=\"dataframe\">\n",
       "  <thead>\n",
       " <tr style=\"text-align: left;\">\n",
       "      <th>Step</th>\n",
       "      <th>Training Loss</th>\n",
       "      <th>Validation Loss</th>\n",
       "      <th>Wer</th>\n",
       "    </tr>\n",
       "  </thead>\n",
       "  <tbody>\n",
       "    <tr>\n",
       "      <td>500</td>\n",
       "      <td>8.531500</td>\n",
       "      <td>4.741209</td>\n",
       "      <td>7.405096</td>\n",
       "    </tr>\n",
       "  </tbody>\n",
       "</table><p>"
      ],
      "text/plain": [
       "<IPython.core.display.HTML object>"
      ]
     },
     "metadata": {},
     "output_type": "display_data"
    },
    {
     "name": "stderr",
     "output_type": "stream",
     "text": [
      "/usr/local/lib/python3.10/dist-packages/torch/nn/parallel/_functions.py:68: UserWarning: Was asked to gather along dimension 0, but all input tensors were scalars; will instead unsqueeze and return a vector.\n",
      "  warnings.warn('Was asked to gather along dimension 0, but all '\n"
     ]
    },
    {
     "data": {
      "text/plain": [
       "TrainOutput(global_step=862, training_loss=7.10286647150522, metrics={'train_runtime': 614.4031, 'train_samples_per_second': 11.224, 'train_steps_per_second': 1.403, 'total_flos': 138011931033600.0, 'train_loss': 7.10286647150522, 'epoch': 2.0})"
      ]
     },
     "execution_count": 18,
     "metadata": {},
     "output_type": "execute_result"
    }
   ],
   "source": [
    "trainer = Seq2SeqTrainer(\n",
    "    model=model,\n",
    "    tokenizer=tokenizer,\n",
    "    args=training_args,\n",
    "    train_dataset=ds_train,\n",
    "    eval_dataset=ds_eval,\n",
    "    data_collator=data_collator,\n",
    "    compute_metrics=compute_metrics\n",
    ")\n",
    "\n",
    "trainer.train()   "
   ]
  },
  {
   "cell_type": "code",
   "execution_count": 19,
   "metadata": {
    "execution": {
     "iopub.execute_input": "2024-12-21T15:46:42.009947Z",
     "iopub.status.busy": "2024-12-21T15:46:42.009656Z",
     "iopub.status.idle": "2024-12-21T15:46:44.706035Z",
     "shell.execute_reply": "2024-12-21T15:46:44.705089Z",
     "shell.execute_reply.started": "2024-12-21T15:46:42.009911Z"
    },
    "trusted": true
   },
   "outputs": [],
   "source": [
    "trainer.save_model(model_id) "
   ]
  },
  {
   "cell_type": "code",
   "execution_count": 20,
   "metadata": {
    "execution": {
     "iopub.execute_input": "2024-12-21T15:46:44.707249Z",
     "iopub.status.busy": "2024-12-21T15:46:44.706906Z",
     "iopub.status.idle": "2024-12-21T15:46:44.721188Z",
     "shell.execute_reply": "2024-12-21T15:46:44.720379Z",
     "shell.execute_reply.started": "2024-12-21T15:46:44.707217Z"
    },
    "trusted": true
   },
   "outputs": [],
   "source": [
    "from datasets import Dataset\n",
    "\n",
    "# Suppose test_df has columns \"bn\" and \"rm\"\n",
    "ds_test = Dataset.from_pandas(test_df)\n"
   ]
  },
  {
   "cell_type": "code",
   "execution_count": 21,
   "metadata": {
    "execution": {
     "iopub.execute_input": "2024-12-21T15:46:44.722540Z",
     "iopub.status.busy": "2024-12-21T15:46:44.722233Z",
     "iopub.status.idle": "2024-12-21T15:46:48.032110Z",
     "shell.execute_reply": "2024-12-21T15:46:48.031403Z",
     "shell.execute_reply.started": "2024-12-21T15:46:44.722515Z"
    },
    "trusted": true
   },
   "outputs": [
    {
     "data": {
      "application/vnd.jupyter.widget-view+json": {
       "model_id": "d23e56ff2456407aa1110741bed56b45",
       "version_major": 2,
       "version_minor": 0
      },
      "text/plain": [
       "Map:   0%|          | 0/959 [00:00<?, ? examples/s]"
      ]
     },
     "metadata": {},
     "output_type": "display_data"
    }
   ],
   "source": [
    "ds_test = ds_test.map(prepare_dataset, remove_columns=ds_test.column_names)\n"
   ]
  },
  {
   "cell_type": "code",
   "execution_count": null,
   "metadata": {
    "execution": {
     "iopub.execute_input": "2024-12-21T15:46:48.033308Z",
     "iopub.status.busy": "2024-12-21T15:46:48.032990Z"
    },
    "trusted": true
   },
   "outputs": [
    {
     "name": "stderr",
     "output_type": "stream",
     "text": [
      "/usr/local/lib/python3.10/dist-packages/torch/nn/parallel/_functions.py:68: UserWarning: Was asked to gather along dimension 0, but all input tensors were scalars; will instead unsqueeze and return a vector.\n",
      "  warnings.warn('Was asked to gather along dimension 0, but all '\n"
     ]
    },
    {
     "data": {
      "text/html": [
       "\n",
       "    <div>\n",
       "      \n",
       "      <progress value='154' max='120' style='width:300px; height:20px; vertical-align: middle;'></progress>\n",
       "      [120/120 09:37]\n",
       "    </div>\n",
       "    "
      ],
      "text/plain": [
       "<IPython.core.display.HTML object>"
      ]
     },
     "metadata": {},
     "output_type": "display_data"
    },
    {
     "name": "stdout",
     "output_type": "stream",
     "text": [
      "Test metrics: {'eval_loss': 4.757904529571533, 'eval_wer': 7.191992123400065, 'eval_runtime': 454.0354, 'eval_samples_per_second': 2.112, 'eval_steps_per_second': 0.264, 'epoch': 2.0}\n"
     ]
    }
   ],
   "source": [
    "# Option 1: Evaluate (calculates WER, etc.)\n",
    "test_metrics = trainer.evaluate(ds_test)\n",
    "print(\"Test metrics:\", test_metrics)\n",
    "\n",
    "# Option 2: Get predictions & metrics\n",
    "predictions, labels, metrics = trainer.predict(ds_test)\n",
    "print(\"Test metrics:\", metrics)\n"
   ]
  },
  {
   "cell_type": "code",
   "execution_count": null,
   "metadata": {
    "trusted": true
   },
   "outputs": [],
   "source": []
  },
  {
   "cell_type": "code",
   "execution_count": null,
   "metadata": {
    "trusted": true
   },
   "outputs": [],
   "source": []
  },
  {
   "cell_type": "code",
   "execution_count": null,
   "metadata": {
    "trusted": true
   },
   "outputs": [],
   "source": []
  }
 ],
 "metadata": {
  "kaggle": {
   "accelerator": "nvidiaTeslaT4",
   "dataSources": [],
   "dockerImageVersionId": 30823,
   "isGpuEnabled": true,
   "isInternetEnabled": true,
   "language": "python",
   "sourceType": "notebook"
  },
  "kernelspec": {
   "display_name": "Python 3",
   "language": "python",
   "name": "python3"
  },
  "language_info": {
   "codemirror_mode": {
    "name": "ipython",
    "version": 3
   },
   "file_extension": ".py",
   "mimetype": "text/x-python",
   "name": "python",
   "nbconvert_exporter": "python",
   "pygments_lexer": "ipython3",
   "version": "3.10.12"
  }
 },
 "nbformat": 4,
 "nbformat_minor": 4
}
